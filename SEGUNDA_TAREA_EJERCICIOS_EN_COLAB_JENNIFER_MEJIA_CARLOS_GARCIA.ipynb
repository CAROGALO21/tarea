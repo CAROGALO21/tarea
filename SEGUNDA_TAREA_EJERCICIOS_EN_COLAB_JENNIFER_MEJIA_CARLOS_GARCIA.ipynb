{
  "nbformat": 4,
  "nbformat_minor": 0,
  "metadata": {
    "colab": {
      "name": "Copia de SEGUNDA TAREA_EJERCICIOS EN COLAB_JENNIFER MEJIA_CARLOS GARCIA.ipynb",
      "provenance": [],
      "collapsed_sections": [],
      "include_colab_link": true
    },
    "kernelspec": {
      "name": "python3",
      "display_name": "Python 3"
    },
    "language_info": {
      "name": "python"
    }
  },
  "cells": [
    {
      "cell_type": "markdown",
      "metadata": {
        "id": "view-in-github",
        "colab_type": "text"
      },
      "source": [
        "<a href=\"https://colab.research.google.com/github/CAROGALO21/tarea/blob/main/SEGUNDA_TAREA_EJERCICIOS_EN_COLAB_JENNIFER_MEJIA_CARLOS_GARCIA.ipynb\" target=\"_parent\"><img src=\"https://colab.research.google.com/assets/colab-badge.svg\" alt=\"Open In Colab\"/></a>"
      ]
    },
    {
      "cell_type": "code",
      "metadata": {
        "id": "sOMukOMdkn5Y"
      },
      "source": [
        "## EJERCICIOS EN PANDAS\n",
        "## EJERCICIO # 1 (diccionario con las notas de los alumnos en curso en un examen y devuelva una serie con la nota mínima, la máxima, media y la desviación típica )\n",
        "import pandas as pd\n",
        "def estadistica_notas(notas):\n",
        "    notas = pd.Series(notas)\n",
        "    estadisticos = pd.Series([notas.min(), notas.max(), notas.mean(), notas.std()], index=['Min', 'Max', 'Media', 'Desviación típica'])\n",
        "    return estadisticos\n",
        "notas = {'Carlos Garcia':95, 'Jennifer Meija':89, 'Pablo Castro':90, 'Rafael Nodarse': 81, 'Milena Win': 98, 'CARLOS GRAJEDA': 99, 'MIRTA GRAJEDA': 93, 'GLENDA GARCIA': 98}\n",
        "print(estadistica_notas(notas))\n",
        "print (notas)"
      ],
      "execution_count": null,
      "outputs": []
    },
    {
      "cell_type": "code",
      "metadata": {
        "id": "VgEU3MzZmOGi"
      },
      "source": [
        "## EJERCICIOS EN PANDAS\n",
        "## EJERCICIO # 2 (notas de los alumnos aprobados ordenadas de mayor a menor)\n",
        "import pandas as pd\n",
        "def aprobados(NOTAS):\n",
        "    NOTAS = pd.Series(NOTAS)\n",
        "    return NOTAS[NOTAS >= 60].sort_values(ascending=False)\n",
        "NOTAS = {'JOSE PEREZ':59,'CARLOS GARCIA':99, 'JENNIFER MEJIA':99, 'CARLOS GRAJEDA':89, 'PEDRO ALMODOBAR': 87, 'LUIS CRUZ': 78, 'MARIO CASTRO': 90, 'RAFAEL PINEDA': 68}\n",
        "print(aprobados(NOTAS))"
      ],
      "execution_count": null,
      "outputs": []
    },
    {
      "cell_type": "code",
      "metadata": {
        "id": "J1trexaKtIWg"
      },
      "source": [
        "## EJERCICIOS EN PANDAS\n",
        "## EJERCICIO # 3 (DataFrame con los datos de la tabla siguiente:)\n",
        "import pandas as pd\n",
        "valores = {'MES':['ENERO', 'FEBRERO', 'MARZO', 'ABRIL'], \"      \" 'VENTAS':[30500, 35600, 28300, 33900]}\n",
        "print (\"---------------------------\")\n",
        "promedio = pd.DataFrame(valores)\n",
        "print(promedio) \n",
        "print (\"---------------------------\")"
      ],
      "execution_count": null,
      "outputs": []
    },
    {
      "cell_type": "markdown",
      "metadata": {
        "id": "9gVjyqrAgi6_"
      },
      "source": [
        "**## TAREA # 4 CON TITANIC **\n",
        "\n"
      ]
    },
    {
      "cell_type": "code",
      "metadata": {
        "id": "FOucUat32PcH"
      },
      "source": [
        "import pandas as pd\n",
        "import matplotlib.pyplot as plt\n",
        "import seaborn as sns\n",
        "import numpy as np\n",
        "#Se agrega la clase train_test_split para dividir en los 2 set de datos, el de entrenamiento y el de test. \n",
        "from sklearn.model_selection import train_test_split\n",
        "from sklearn.svm import SVC \n",
        "from sklearn.neighbors import KNeighborsClassifier\n"
      ],
      "execution_count": null,
      "outputs": []
    },
    {
      "cell_type": "code",
      "metadata": {
        "id": "TFtc-AZphAsG"
      },
      "source": [
        "## EJERCICIO # 4\n",
        "## 1. GENERAR UN DATAFRAME CON LOS DATOS DEL FICHERO.\n",
        "titanic = pd.read_csv(\"http://web.stanford.edu/class/archive/cs/cs109/cs109.1166/stuff/titanic.csv\")\n",
        "columnas = [\"Sobrevivio\", \"Clase\", \"Nombre\", \"Sexo\", \"Edad\", \"Parientes\", \"Hijos\", \"Tarifa\", ]\n",
        "titanic.columns=columnas\n",
        "titanic"
      ],
      "execution_count": null,
      "outputs": []
    },
    {
      "cell_type": "code",
      "metadata": {
        "id": "bcgZp9ZVlGVF"
      },
      "source": [
        "## 2. MOSTRAR POR PANTALLA LAS 10 PRIMERAS FILAS Y LAS ULTIMAS 10 FILAS.\n",
        "print('Primeras 10 filas:\\n', titanic.head(10))\n",
        "print('Últimas 10 filas:\\n', titanic.tail(10))"
      ],
      "execution_count": null,
      "outputs": []
    },
    {
      "cell_type": "code",
      "metadata": {
        "id": "vOsduoNrlRI1"
      },
      "source": [
        "## 3. MOSTRAR POR PANTALLA LOS DATOS DEL PASAJERO CON EL IDENTIFICADOR # 148\n",
        "print(titanic.loc[148])"
      ],
      "execution_count": null,
      "outputs": []
    },
    {
      "cell_type": "code",
      "metadata": {
        "id": "B966tedqlbQl"
      },
      "source": [
        "## 4. MOSTRAR POR PANTALLA LAS FILAS PARES DEL DATAFRAME.\n",
        "print(titanic.iloc[range(0,titanic.shape[0],2)])"
      ],
      "execution_count": null,
      "outputs": []
    },
    {
      "cell_type": "code",
      "metadata": {
        "id": "o2l6wmc5lhMN"
      },
      "source": [
        "# 5. MOSTRAR POR PANTALLA LOS NOMBRES DE LAS PERSONAS QUE IBAN EN PRIMERA CLASE ORDENADAS ALFABETICAMENTE.\n",
        "print(titanic.iloc[range(0,titanic.shape[0],2)])"
      ],
      "execution_count": null,
      "outputs": []
    },
    {
      "cell_type": "code",
      "metadata": {
        "id": "GASXvrsqbRNc"
      },
      "source": [
        "# 6. MOSTRAR POR PANTALLA EL PORCENTAJE DE PERSONAS QUE SOBREVIVIERON Y MURIERON\n",
        "print(titanic[titanic[\"Clase\"]==1]['Nombre'].sort_values())"
      ],
      "execution_count": null,
      "outputs": []
    },
    {
      "cell_type": "code",
      "metadata": {
        "id": "JlRz1DqpfED4"
      },
      "source": [
        "# 7. MOSTRAR POR PANTALLA EL PORCENTAJE DE PERSONAS QUE SOBREVIVIERON EN CADA CLASE.\n",
        "print(titanic.groupby('Clase')['Sobrevivio'].value_counts(normalize=True))"
      ],
      "execution_count": null,
      "outputs": []
    },
    {
      "cell_type": "code",
      "metadata": {
        "id": "830e4zoJfwiv"
      },
      "source": [
        "# 8. ELIMINAR DEL DATAFRAME LOS PASAJEROS CON EDAD DESCONOCIDA.\n",
        "titanic = titanic[titanic['Edad'].notna()]"
      ],
      "execution_count": null,
      "outputs": []
    },
    {
      "cell_type": "code",
      "metadata": {
        "id": "ZE4iCFWsgGTF"
      },
      "source": [
        "# 9. MOSTRAR POR PANTALLA LA EDAD MEDIA DE LAS MUJERES QUE VIAJABAN EN CADA CLASE.\n",
        "print(titanic.groupby(['Clase','Sexo'])['Edad'].mean().unstack()['female'])"
      ],
      "execution_count": null,
      "outputs": []
    },
    {
      "cell_type": "code",
      "metadata": {
        "id": "ZID_IOfXgjPW"
      },
      "source": [
        "# 10. AÑADIR UNA NUEVA COLUMNA BOLEANA PARA VER SI EL PASAJERO ERA MENOR DE EDAD O NO.\n",
        "titanic['Joven'] = titanic['Edad'] < 18"
      ],
      "execution_count": null,
      "outputs": []
    },
    {
      "cell_type": "code",
      "metadata": {
        "id": "4smB0eiBh3Bw"
      },
      "source": [
        "# 11.\tMOSTRAR POR PANTALLA EL PORCENTAJE DE MENORES Y MAYORES DE EDAD QUE SOBREVIVIERON EN CADA CLASE.\n",
        "print(titanic.groupby(['Clase', 'Joven'])['Sobrevivio'].value_counts(normalize = True) * 100)"
      ],
      "execution_count": null,
      "outputs": []
    },
    {
      "cell_type": "code",
      "metadata": {
        "id": "UrBJ_AQIAOk4"
      },
      "source": [
        ""
      ],
      "execution_count": null,
      "outputs": []
    },
    {
      "cell_type": "markdown",
      "metadata": {
        "id": "JRIZlOKlswfK"
      },
      "source": [
        "## EJERCICIO SEGUNDA PARTE \" ARCHIVO JUGADORES \""
      ]
    },
    {
      "cell_type": "code",
      "metadata": {
        "id": "lsdCAIEGOoas"
      },
      "source": [
        "# 1Crear un nuevo dataframe llamado delanteros y realice el filtro de todos los delanteros (Forward) de todos los equipos.\n",
        "import pandas as pd\n",
        "import numpy as np\n",
        "delanteros = pd.read_csv ('https://raw.githubusercontent.com/CAROGALO21/tarea/main/jugadores.csv', index_col=0)\n",
        "delanteros.loc[delanteros['position'] == \"Forward\"[0:20]]"
      ],
      "execution_count": null,
      "outputs": []
    },
    {
      "cell_type": "code",
      "metadata": {
        "id": "t_7ISKl-CXGa"
      },
      "source": [
        "# 2 Seleccione los jugadores con mas de 10 goles y solo las columnas ( team, player_name, position, todas las columnas que inicien con goals)\n",
        "print(delanteros[delanteros[\"goals\"]>10]['player_name'].sort_values())"
      ],
      "execution_count": null,
      "outputs": []
    },
    {
      "cell_type": "code",
      "metadata": {
        "id": "HFYKSJS6Edrd"
      },
      "source": [
        "# 2 Las columnas que inicien con goals\n",
        "print(delanteros[['goals', 'player_id', 'position']])"
      ],
      "execution_count": null,
      "outputs": []
    },
    {
      "cell_type": "code",
      "metadata": {
        "id": "Nfk1oJAREj3q"
      },
      "source": [
        "# 3. Los jugadores que han anotado goles con la cabeza (goals_headed) y que so defensas (position= Defender\n",
        "delanteros.sort_values(['goals_headed', 'position'], ascending=True)"
      ],
      "execution_count": null,
      "outputs": []
    },
    {
      "cell_type": "code",
      "metadata": {
        "id": "wc6CPi4oE-LP"
      },
      "source": [
        "# 4 Guardar en un dataframe los jugadores que interceptions > 40\n",
        "print(delanteros[delanteros[\"interceptions\"]>40]['player_name'].sort_values())"
      ],
      "execution_count": null,
      "outputs": []
    },
    {
      "cell_type": "code",
      "metadata": {
        "id": "zs7guRxmFECe"
      },
      "source": [
        "# 4 y recoveries > 100\n",
        "print(delanteros[delanteros[\"recoveries\"]>100]['player_name'].sort_values())\n"
      ],
      "execution_count": null,
      "outputs": []
    },
    {
      "cell_type": "code",
      "metadata": {
        "id": "4pRQXEPCFZ7W"
      },
      "source": [
        "# 5 Crear un dataframe que contenga dribbles_successful>=100 \n",
        "delanteros[delanteros['dribbles_successful']>=100]['player_name'].sort_values()"
      ],
      "execution_count": null,
      "outputs": []
    },
    {
      "cell_type": "code",
      "metadata": {
        "id": "28AGll09Fj3R"
      },
      "source": [
        "# 5 shots_total>=40\n",
        "delanteros[delanteros['shots_total']>=40]['player_name'].sort_values()"
      ],
      "execution_count": null,
      "outputs": []
    },
    {
      "cell_type": "code",
      "metadata": {
        "id": "CkZMbJOdFny2"
      },
      "source": [
        ""
      ],
      "execution_count": null,
      "outputs": []
    },
    {
      "cell_type": "code",
      "metadata": {
        "id": "uVwiHMcYFWBs"
      },
      "source": [
        "# DATAFRAME JUGADORES\n",
        "delanteros = pd.DataFrame(delanteros)\n",
        "delanteros.to_csv('jugadores.csv', header=False, index=False)\n",
        "delanteros"
      ],
      "execution_count": null,
      "outputs": []
    }
  ]
}